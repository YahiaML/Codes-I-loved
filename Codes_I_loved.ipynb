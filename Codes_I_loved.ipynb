{
  "nbformat": 4,
  "nbformat_minor": 0,
  "metadata": {
    "colab": {
      "name": "Codes I loved.ipynb",
      "provenance": [],
      "collapsed_sections": [],
      "authorship_tag": "ABX9TyN9JpOOp85RKQZlwiM86WY0",
      "include_colab_link": true
    },
    "kernelspec": {
      "name": "python3",
      "display_name": "Python 3"
    },
    "language_info": {
      "name": "python"
    }
  },
  "cells": [
    {
      "cell_type": "markdown",
      "metadata": {
        "id": "view-in-github",
        "colab_type": "text"
      },
      "source": [
        "<a href=\"https://colab.research.google.com/github/YahiaML/Codes-I-loved/blob/main/Codes_I_loved.ipynb\" target=\"_parent\"><img src=\"https://colab.research.google.com/assets/colab-badge.svg\" alt=\"Open In Colab\"/></a>"
      ]
    },
    {
      "cell_type": "markdown",
      "source": [
        "# If case in Return"
      ],
      "metadata": {
        "id": "-YRKjzvdgci9"
      }
    },
    {
      "cell_type": "code",
      "execution_count": null,
      "metadata": {
        "id": "d_RBhV0subgo"
      },
      "outputs": [],
      "source": [
        "def BracketMatcher(str):\n",
        "\n",
        "  count = 0\n",
        "  for c in str:\n",
        "    if c == '(':\n",
        "      count += 1\n",
        "    elif c == ')':\n",
        "      count -= 1\n",
        "    if count < 0: return 0\n",
        "\n",
        "  return 1 if count == 0 else 0\n",
        "\n",
        "# keep this function call here \n",
        "print(BracketMatcher(input()))"
      ]
    },
    {
      "cell_type": "markdown",
      "source": [
        "# Nested comprehension"
      ],
      "metadata": {
        "id": "5Z_B1ToehI8E"
      }
    },
    {
      "cell_type": "code",
      "source": [
        "def BracketMatcher(strArr):  # 1 is true 0 false\n",
        "    n=0\n",
        "    for c in strArr:\n",
        "        n=n+(1 if c=='(' else (-1 if c== ')' else 0))\n",
        "        if n<0: return 0\n",
        "    return 1 if n==0 else 0\n",
        "\n",
        "\n",
        "# keep this function call here \n",
        "print(BracketMatcher(input()))"
      ],
      "metadata": {
        "id": "m-KlENoDhH21"
      },
      "execution_count": null,
      "outputs": []
    },
    {
      "cell_type": "markdown",
      "source": [
        "#Print a pragraph"
      ],
      "metadata": {
        "id": "Lv5-6mMQEgIC"
      }
    },
    {
      "cell_type": "code",
      "source": [
        "print('''\\\n",
        "A\n",
        "B\n",
        "C\n",
        "''' )"
      ],
      "metadata": {
        "colab": {
          "base_uri": "https://localhost:8080/"
        },
        "id": "2yunkShIEkMh",
        "outputId": "16fdf6e1-796c-482e-f2c8-6dab19421606"
      },
      "execution_count": null,
      "outputs": [
        {
          "output_type": "stream",
          "name": "stdout",
          "text": [
            "A\n",
            "B\n",
            "C\n",
            "\n"
          ]
        }
      ]
    },
    {
      "cell_type": "markdown",
      "source": [
        "#Join a list"
      ],
      "metadata": {
        "id": "uDDZ9GbUEnHJ"
      }
    },
    {
      "cell_type": "code",
      "source": [
        "string = 'ppy!' \n",
        "fruit = 'a'.join(list(string)) \n",
        "print(fruit)"
      ],
      "metadata": {
        "colab": {
          "base_uri": "https://localhost:8080/"
        },
        "id": "3pUSC1YbEt5C",
        "outputId": "f9e7bb28-c6dd-4972-cb15-57394f344b19"
      },
      "execution_count": null,
      "outputs": [
        {
          "output_type": "stream",
          "name": "stdout",
          "text": [
            "papaya!\n"
          ]
        }
      ]
    },
    {
      "cell_type": "markdown",
      "source": [
        "#Lambda"
      ],
      "metadata": {
        "id": "-DGqbBppO9wW"
      }
    },
    {
      "cell_type": "code",
      "source": [
        "def myfunc(n):\n",
        "  return lambda a : a * n\n",
        "\n",
        "mydoubler = myfunc(2) # save 2 in a\n",
        "\n",
        "print(mydoubler(11)) # n = 11"
      ],
      "metadata": {
        "colab": {
          "base_uri": "https://localhost:8080/"
        },
        "id": "e4-ay7QmO9J3",
        "outputId": "36b5dfc5-d511-455b-975c-343565344932"
      },
      "execution_count": null,
      "outputs": [
        {
          "output_type": "stream",
          "name": "stdout",
          "text": [
            "22\n"
          ]
        }
      ]
    },
    {
      "cell_type": "markdown",
      "source": [
        "#print list contents without for loop"
      ],
      "metadata": {
        "id": "gX30GthNPsSO"
      }
    },
    {
      "cell_type": "code",
      "source": [
        "l = [1,2,3,4,5,6,7]\n",
        "print(*l)\n",
        "\n",
        "def op(arg1, arg2):\n",
        "  return arg1 + arg2 \n",
        "  \n",
        "args = [] \n",
        "args.append(3) \n",
        "args.append(5) \n",
        "print(op(*args))"
      ],
      "metadata": {
        "colab": {
          "base_uri": "https://localhost:8080/"
        },
        "id": "saFf-UsvPwOF",
        "outputId": "95eae05f-be7c-4ea1-e6f6-0c75a2fb3c35"
      },
      "execution_count": null,
      "outputs": [
        {
          "output_type": "stream",
          "name": "stdout",
          "text": [
            "1 2 3 4 5 6 7\n",
            "8\n"
          ]
        }
      ]
    },
    {
      "cell_type": "markdown",
      "source": [
        "#Regix"
      ],
      "metadata": {
        "id": "zlTuXszorpoB"
      }
    },
    {
      "cell_type": "code",
      "source": [
        "import re \n",
        "regex = \"e.\" #the number of points represents the number of letters you want to escape\n",
        "string = \"Spiderman\" \n",
        "result = re.split(regex, string) \n",
        "print(result[1])"
      ],
      "metadata": {
        "id": "6uqlE6hjrrjf"
      },
      "execution_count": null,
      "outputs": []
    }
  ]
}