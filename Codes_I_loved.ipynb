{
  "nbformat": 4,
  "nbformat_minor": 0,
  "metadata": {
    "colab": {
      "name": "Codes I loved.ipynb",
      "provenance": [],
      "collapsed_sections": [
        "NSz6-bVQtGFm",
        "-uSgRCJFzaNz",
        "Ik39MpwOtJLc",
        "uDDZ9GbUEnHJ",
        "-YRKjzvdgci9",
        "-DGqbBppO9wW",
        "5Z_B1ToehI8E",
        "6hzxoPW-tL3I",
        "Lv5-6mMQEgIC",
        "gX30GthNPsSO",
        "zlTuXszorpoB",
        "DSsa4s4BvsCv"
      ],
      "authorship_tag": "ABX9TyM9nCAIYWRWwQD7nXu2pFpm",
      "include_colab_link": true
    },
    "kernelspec": {
      "name": "python3",
      "display_name": "Python 3"
    },
    "language_info": {
      "name": "python"
    }
  },
  "cells": [
    {
      "cell_type": "markdown",
      "metadata": {
        "id": "view-in-github",
        "colab_type": "text"
      },
      "source": [
        "<a href=\"https://colab.research.google.com/github/YahiaML/Codes-I-loved/blob/main/Codes_I_loved.ipynb\" target=\"_parent\"><img src=\"https://colab.research.google.com/assets/colab-badge.svg\" alt=\"Open In Colab\"/></a>"
      ]
    },
    {
      "cell_type": "markdown",
      "source": [
        "#**A - G**\n",
        "###A, B, C, D, E, F, G"
      ],
      "metadata": {
        "id": "NSz6-bVQtGFm"
      }
    },
    {
      "cell_type": "markdown",
      "source": [
        "##Dictionaries intersections"
      ],
      "metadata": {
        "id": "qtAOpoVo6y66"
      }
    },
    {
      "cell_type": "code",
      "source": [
        "# cancer-fighting foods\n",
        "cf = {\"basil\", \"berries\", \"broccoli\", \"curcume\", \"garlic\", \"kale\", \"oranges\", \"seeds\", \"spinach\", \"sprouts\"} \n",
        "# blood pressure reducing foods \n",
        "bf = {\"bananas\", \"berries\", \"fish\", \"garlic\", \"kale\", \"red beets\", \"salmon\", \"seeds\", \"spinach\", \"yogurt\"} \n",
        "print(cf & bf)"
      ],
      "metadata": {
        "colab": {
          "base_uri": "https://localhost:8080/"
        },
        "id": "6aeOt_wl0QbI",
        "outputId": "c0f25432-ada2-4c38-c5bf-1b6535341ab2"
      },
      "execution_count": null,
      "outputs": [
        {
          "output_type": "stream",
          "name": "stdout",
          "text": [
            "{'seeds', 'garlic', 'spinach', 'kale', 'berries'}\n"
          ]
        }
      ]
    },
    {
      "cell_type": "markdown",
      "source": [
        "##Find a string index"
      ],
      "metadata": {
        "id": "-uSgRCJFzaNz"
      }
    },
    {
      "cell_type": "code",
      "source": [
        "\"\"\"To check whether a string s1 contains another string s2, you can use the method find(). This method is slightly more powerful than the Python \"in\" keyword because it also returns the index of the searched substring (instead of returning only a Boolean value).\n",
        "\n",
        "If the substring does not exist, the find() method returns the index -1. You have to be careful to handle this return value properly.\n",
        "\n",
        "The puzzle shows how you can specify the start and stop indices to limit the search to a certain (index) range.\"\"\"\n",
        "\n",
        "s1 = \"Ronaldo is better than Messi\" \n",
        "print(s1.find(\"Ronaldo\", 5)) \n",
        "print(s1.find(\"Football\")) \n",
        "print(s1.find(\"Messi\", 5, 100)) # returns 23 becausethe first litter is in the index num 23"
      ],
      "metadata": {
        "id": "hRAnY0Uuzakp"
      },
      "execution_count": null,
      "outputs": []
    },
    {
      "cell_type": "markdown",
      "source": [
        "#**H - N**\n",
        "###H, I, J, K, L, M, N"
      ],
      "metadata": {
        "id": "Ik39MpwOtJLc"
      }
    },
    {
      "cell_type": "markdown",
      "source": [
        "##Join a list"
      ],
      "metadata": {
        "id": "uDDZ9GbUEnHJ"
      }
    },
    {
      "cell_type": "code",
      "source": [
        "string = 'ppy!' \n",
        "fruit = 'a'.join(list(string)) \n",
        "print(fruit)"
      ],
      "metadata": {
        "colab": {
          "base_uri": "https://localhost:8080/"
        },
        "id": "3pUSC1YbEt5C",
        "outputId": "f9e7bb28-c6dd-4972-cb15-57394f344b19"
      },
      "execution_count": null,
      "outputs": [
        {
          "output_type": "stream",
          "name": "stdout",
          "text": [
            "papaya!\n"
          ]
        }
      ]
    },
    {
      "cell_type": "markdown",
      "source": [
        "## If case in Return"
      ],
      "metadata": {
        "id": "-YRKjzvdgci9"
      }
    },
    {
      "cell_type": "code",
      "execution_count": null,
      "metadata": {
        "id": "d_RBhV0subgo"
      },
      "outputs": [],
      "source": [
        "def BracketMatcher(str):\n",
        "\n",
        "  count = 0\n",
        "  for c in str:\n",
        "    if c == '(':\n",
        "      count += 1\n",
        "    elif c == ')':\n",
        "      count -= 1\n",
        "    if count < 0: return 0\n",
        "\n",
        "  return 1 if count == 0 else 0\n",
        "\n",
        "# keep this function call here \n",
        "print(BracketMatcher(input()))"
      ]
    },
    {
      "cell_type": "markdown",
      "source": [
        "##Lambda"
      ],
      "metadata": {
        "id": "-DGqbBppO9wW"
      }
    },
    {
      "cell_type": "code",
      "source": [
        "def myfunc(n):\n",
        "  return lambda a : a * n\n",
        "\n",
        "mydoubler = myfunc(2) # save 2 in a\n",
        "\n",
        "print(mydoubler(11)) # n = 11"
      ],
      "metadata": {
        "colab": {
          "base_uri": "https://localhost:8080/"
        },
        "id": "e4-ay7QmO9J3",
        "outputId": "36b5dfc5-d511-455b-975c-343565344932"
      },
      "execution_count": null,
      "outputs": [
        {
          "output_type": "stream",
          "name": "stdout",
          "text": [
            "22\n"
          ]
        }
      ]
    },
    {
      "cell_type": "markdown",
      "source": [
        "## Nested comprehension"
      ],
      "metadata": {
        "id": "5Z_B1ToehI8E"
      }
    },
    {
      "cell_type": "code",
      "source": [
        "def BracketMatcher(strArr):  # 1 is true 0 false\n",
        "    n=0\n",
        "    for c in strArr:\n",
        "        n=n+(1 if c=='(' else (-1 if c== ')' else 0))\n",
        "        if n<0: return 0\n",
        "    return 1 if n==0 else 0\n",
        "\n",
        "\n",
        "# keep this function call here \n",
        "print(BracketMatcher(input()))"
      ],
      "metadata": {
        "id": "m-KlENoDhH21"
      },
      "execution_count": null,
      "outputs": []
    },
    {
      "cell_type": "markdown",
      "source": [
        "#**O - T**\n",
        "### O, P, Q, R, S, T, U"
      ],
      "metadata": {
        "id": "6hzxoPW-tL3I"
      }
    },
    {
      "cell_type": "markdown",
      "source": [
        "##Print a pragraph"
      ],
      "metadata": {
        "id": "Lv5-6mMQEgIC"
      }
    },
    {
      "cell_type": "code",
      "source": [
        "print('''\\\n",
        "A\n",
        "B\n",
        "C\n",
        "''' )"
      ],
      "metadata": {
        "colab": {
          "base_uri": "https://localhost:8080/"
        },
        "id": "2yunkShIEkMh",
        "outputId": "16fdf6e1-796c-482e-f2c8-6dab19421606"
      },
      "execution_count": null,
      "outputs": [
        {
          "output_type": "stream",
          "name": "stdout",
          "text": [
            "A\n",
            "B\n",
            "C\n",
            "\n"
          ]
        }
      ]
    },
    {
      "cell_type": "markdown",
      "source": [
        "##print list contents without for loop"
      ],
      "metadata": {
        "id": "gX30GthNPsSO"
      }
    },
    {
      "cell_type": "code",
      "source": [
        "l = [1,2,3,4,5,6,7]\n",
        "print(*l)\n",
        "\n",
        "def op(arg1, arg2):\n",
        "  return arg1 + arg2 \n",
        "  \n",
        "args = [] \n",
        "args.append(3) \n",
        "args.append(5) \n",
        "print(op(*args))"
      ],
      "metadata": {
        "colab": {
          "base_uri": "https://localhost:8080/"
        },
        "id": "saFf-UsvPwOF",
        "outputId": "95eae05f-be7c-4ea1-e6f6-0c75a2fb3c35"
      },
      "execution_count": null,
      "outputs": [
        {
          "output_type": "stream",
          "name": "stdout",
          "text": [
            "1 2 3 4 5 6 7\n",
            "8\n"
          ]
        }
      ]
    },
    {
      "cell_type": "markdown",
      "source": [
        "##Regix with re"
      ],
      "metadata": {
        "id": "zlTuXszorpoB"
      }
    },
    {
      "cell_type": "code",
      "source": [
        "import re \n",
        "regex = \"e.\" #the number of points represents the number of letters you want to escape\n",
        "string = \"Spiderman\" \n",
        "result = re.split(regex, string) \n",
        "print(result[1])"
      ],
      "metadata": {
        "id": "6uqlE6hjrrjf"
      },
      "execution_count": null,
      "outputs": []
    },
    {
      "cell_type": "code",
      "source": [
        "import re \n",
        "words = ['computer', 'car', 'cat', 'cow', 'crow', 'window', \"way\"] \n",
        "result = [w for w in words if re.match('.*w$', w)] # Check if the word ends with w\n",
        "#result = [w for w in words if re.match('w.*$', w)]  # Check if the word starts with w\n",
        "#result = [w for w in words if re.match('.*w.*$', w)]  # Check if the word cantains w\n",
        "#result = [w for w in words if re.match('..w$', w)] # Check if the word cantains w and exactly 2 charecters before it\n",
        "print(result)\n",
        "print(len(result))"
      ],
      "metadata": {
        "id": "4LM2nrZc1jgP"
      },
      "execution_count": null,
      "outputs": []
    },
    {
      "cell_type": "markdown",
      "source": [
        "##Sort a list with respect to another cell"
      ],
      "metadata": {
        "id": "raPS7tvh9JeK"
      }
    },
    {
      "cell_type": "code",
      "source": [
        "import numpy as np\n",
        "## Data: SAT scores for different students \n",
        "sat_scores = np.array([1440, 1256, 1543, 1043, 989, 1412, 1343]) \n",
        "students = np.array([\"John\", \"Bob\", \"Alice\", \"Joe\", \"Jane\", \"Frank\", \"Carl\"]) \n",
        "top_3 = students[np.argsort(sat_scores)][:-4:-1] \n",
        "desc_order = students[np.argsort(sat_scores)][::-1] \n",
        "asc_order = students[np.argsort(sat_scores)]\n",
        "\n",
        "print(top_3[0]) \n",
        "print(top_3[1]) \n",
        "print(top_3[2])\n",
        "print(desc_order)\n",
        "print(asc_order)\n",
        "#Alice\n",
        "#John\n",
        "#Frank\n"
      ],
      "metadata": {
        "colab": {
          "base_uri": "https://localhost:8080/"
        },
        "outputId": "5dc5fa24-af02-4e7b-a3af-c3fd8de15bab",
        "id": "NJkogZnf97gh"
      },
      "execution_count": null,
      "outputs": [
        {
          "output_type": "stream",
          "name": "stdout",
          "text": [
            "Alice\n",
            "John\n",
            "Frank\n",
            "['Alice' 'John' 'Frank' 'Carl' 'Bob' 'Joe' 'Jane']\n",
            "['Jane' 'Joe' 'Bob' 'Carl' 'Frank' 'John' 'Alice']\n"
          ]
        }
      ]
    },
    {
      "cell_type": "markdown",
      "source": [
        "##Tuple in list"
      ],
      "metadata": {
        "id": "DSsa4s4BvsCv"
      }
    },
    {
      "cell_type": "code",
      "source": [
        "bag = [ \n",
        "# (item, price, amount) \n",
        " ('apple', 1.0, 4),\n",
        " ('banana', 1.5, 2), \n",
        " ('cheese', 0.5, 1),\n",
        " ('milk', 1.0, 5) \n",
        " ] \n",
        "\n",
        "total_price = sum([price * amount for item, price, amount in bag]) \n",
        "print(total_price)"
      ],
      "metadata": {
        "id": "zC-f5U8Fvvtp"
      },
      "execution_count": null,
      "outputs": []
    },
    {
      "cell_type": "markdown",
      "source": [
        "#**V - Z**\n",
        "### V, W, X, Y, Z"
      ],
      "metadata": {
        "id": "IlwdDgestMGB"
      }
    }
  ]
}