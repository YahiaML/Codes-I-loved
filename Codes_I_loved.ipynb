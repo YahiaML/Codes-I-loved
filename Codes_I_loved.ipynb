{
  "nbformat": 4,
  "nbformat_minor": 0,
  "metadata": {
    "colab": {
      "name": "Codes I loved.ipynb",
      "provenance": [],
      "collapsed_sections": [
        "NSz6-bVQtGFm",
        "-uSgRCJFzaNz",
        "Ik39MpwOtJLc",
        "uDDZ9GbUEnHJ",
        "-YRKjzvdgci9",
        "-DGqbBppO9wW",
        "5Z_B1ToehI8E",
        "6hzxoPW-tL3I",
        "Lv5-6mMQEgIC",
        "gX30GthNPsSO",
        "zlTuXszorpoB",
        "DSsa4s4BvsCv"
      ],
      "authorship_tag": "ABX9TyMqTP3/xZm78zlqTPY0CnEK",
      "include_colab_link": true
    },
    "kernelspec": {
      "name": "python3",
      "display_name": "Python 3"
    },
    "language_info": {
      "name": "python"
    }
  },
  "cells": [
    {
      "cell_type": "markdown",
      "metadata": {
        "id": "view-in-github",
        "colab_type": "text"
      },
      "source": [
        "<a href=\"https://colab.research.google.com/github/YahiaML/Codes-I-loved/blob/main/Codes_I_loved.ipynb\" target=\"_parent\"><img src=\"https://colab.research.google.com/assets/colab-badge.svg\" alt=\"Open In Colab\"/></a>"
      ]
    },
    {
      "cell_type": "markdown",
      "source": [
        "#**A - G**\n",
        "###A, B, C, D, E, F, G"
      ],
      "metadata": {
        "id": "NSz6-bVQtGFm"
      }
    },
    {
      "cell_type": "markdown",
      "source": [
        "##Display categorical columns' statistics"
      ],
      "metadata": {
        "id": "ii8GxamhGZ7m"
      }
    },
    {
      "cell_type": "code",
      "source": [
        "import pandas as pd\n",
        "df = pd.read_csv(\"https://raw.githubusercontent.com/YahiaML/TMDb-movies-data-investigation/main/tmdb-movies.csv\")\n",
        "df.describe(include = [\"object\"])\n",
        "\n",
        "#Freq represent how many times that most frequent element was seen"
      ],
      "metadata": {
        "colab": {
          "base_uri": "https://localhost:8080/",
          "height": 175
        },
        "id": "bfTVD1OgGZJm",
        "outputId": "93c1c49a-6396-4407-92f1-0774e7ab29f9"
      },
      "execution_count": 1,
      "outputs": [
        {
          "output_type": "execute_result",
          "data": {
            "text/plain": [
              "          imdb_id original_title        cast  \\\n",
              "count       10856          10866       10790   \n",
              "unique      10855          10571       10719   \n",
              "top     tt0411951         Hamlet  Louis C.K.   \n",
              "freq            2              4           6   \n",
              "\n",
              "                                homepage     director                 tagline  \\\n",
              "count                               2936        10822                    8042   \n",
              "unique                              2896         5067                    7997   \n",
              "top     http://www.thehungergames.movie/  Woody Allen  Based on a true story.   \n",
              "freq                                   4           45                       5   \n",
              "\n",
              "              keywords            overview  genres production_companies  \\\n",
              "count             9373               10862   10843                 9836   \n",
              "unique            8804               10847    2039                 7445   \n",
              "top     woman director  No overview found.  Comedy   Paramount Pictures   \n",
              "freq               134                  13     712                  156   \n",
              "\n",
              "       release_date  \n",
              "count         10866  \n",
              "unique         5909  \n",
              "top          1/1/09  \n",
              "freq             28  "
            ],
            "text/html": [
              "\n",
              "  <div id=\"df-1ee3ae28-aca9-4233-9843-cfe4ed127618\">\n",
              "    <div class=\"colab-df-container\">\n",
              "      <div>\n",
              "<style scoped>\n",
              "    .dataframe tbody tr th:only-of-type {\n",
              "        vertical-align: middle;\n",
              "    }\n",
              "\n",
              "    .dataframe tbody tr th {\n",
              "        vertical-align: top;\n",
              "    }\n",
              "\n",
              "    .dataframe thead th {\n",
              "        text-align: right;\n",
              "    }\n",
              "</style>\n",
              "<table border=\"1\" class=\"dataframe\">\n",
              "  <thead>\n",
              "    <tr style=\"text-align: right;\">\n",
              "      <th></th>\n",
              "      <th>imdb_id</th>\n",
              "      <th>original_title</th>\n",
              "      <th>cast</th>\n",
              "      <th>homepage</th>\n",
              "      <th>director</th>\n",
              "      <th>tagline</th>\n",
              "      <th>keywords</th>\n",
              "      <th>overview</th>\n",
              "      <th>genres</th>\n",
              "      <th>production_companies</th>\n",
              "      <th>release_date</th>\n",
              "    </tr>\n",
              "  </thead>\n",
              "  <tbody>\n",
              "    <tr>\n",
              "      <th>count</th>\n",
              "      <td>10856</td>\n",
              "      <td>10866</td>\n",
              "      <td>10790</td>\n",
              "      <td>2936</td>\n",
              "      <td>10822</td>\n",
              "      <td>8042</td>\n",
              "      <td>9373</td>\n",
              "      <td>10862</td>\n",
              "      <td>10843</td>\n",
              "      <td>9836</td>\n",
              "      <td>10866</td>\n",
              "    </tr>\n",
              "    <tr>\n",
              "      <th>unique</th>\n",
              "      <td>10855</td>\n",
              "      <td>10571</td>\n",
              "      <td>10719</td>\n",
              "      <td>2896</td>\n",
              "      <td>5067</td>\n",
              "      <td>7997</td>\n",
              "      <td>8804</td>\n",
              "      <td>10847</td>\n",
              "      <td>2039</td>\n",
              "      <td>7445</td>\n",
              "      <td>5909</td>\n",
              "    </tr>\n",
              "    <tr>\n",
              "      <th>top</th>\n",
              "      <td>tt0411951</td>\n",
              "      <td>Hamlet</td>\n",
              "      <td>Louis C.K.</td>\n",
              "      <td>http://www.thehungergames.movie/</td>\n",
              "      <td>Woody Allen</td>\n",
              "      <td>Based on a true story.</td>\n",
              "      <td>woman director</td>\n",
              "      <td>No overview found.</td>\n",
              "      <td>Comedy</td>\n",
              "      <td>Paramount Pictures</td>\n",
              "      <td>1/1/09</td>\n",
              "    </tr>\n",
              "    <tr>\n",
              "      <th>freq</th>\n",
              "      <td>2</td>\n",
              "      <td>4</td>\n",
              "      <td>6</td>\n",
              "      <td>4</td>\n",
              "      <td>45</td>\n",
              "      <td>5</td>\n",
              "      <td>134</td>\n",
              "      <td>13</td>\n",
              "      <td>712</td>\n",
              "      <td>156</td>\n",
              "      <td>28</td>\n",
              "    </tr>\n",
              "  </tbody>\n",
              "</table>\n",
              "</div>\n",
              "      <button class=\"colab-df-convert\" onclick=\"convertToInteractive('df-1ee3ae28-aca9-4233-9843-cfe4ed127618')\"\n",
              "              title=\"Convert this dataframe to an interactive table.\"\n",
              "              style=\"display:none;\">\n",
              "        \n",
              "  <svg xmlns=\"http://www.w3.org/2000/svg\" height=\"24px\"viewBox=\"0 0 24 24\"\n",
              "       width=\"24px\">\n",
              "    <path d=\"M0 0h24v24H0V0z\" fill=\"none\"/>\n",
              "    <path d=\"M18.56 5.44l.94 2.06.94-2.06 2.06-.94-2.06-.94-.94-2.06-.94 2.06-2.06.94zm-11 1L8.5 8.5l.94-2.06 2.06-.94-2.06-.94L8.5 2.5l-.94 2.06-2.06.94zm10 10l.94 2.06.94-2.06 2.06-.94-2.06-.94-.94-2.06-.94 2.06-2.06.94z\"/><path d=\"M17.41 7.96l-1.37-1.37c-.4-.4-.92-.59-1.43-.59-.52 0-1.04.2-1.43.59L10.3 9.45l-7.72 7.72c-.78.78-.78 2.05 0 2.83L4 21.41c.39.39.9.59 1.41.59.51 0 1.02-.2 1.41-.59l7.78-7.78 2.81-2.81c.8-.78.8-2.07 0-2.86zM5.41 20L4 18.59l7.72-7.72 1.47 1.35L5.41 20z\"/>\n",
              "  </svg>\n",
              "      </button>\n",
              "      \n",
              "  <style>\n",
              "    .colab-df-container {\n",
              "      display:flex;\n",
              "      flex-wrap:wrap;\n",
              "      gap: 12px;\n",
              "    }\n",
              "\n",
              "    .colab-df-convert {\n",
              "      background-color: #E8F0FE;\n",
              "      border: none;\n",
              "      border-radius: 50%;\n",
              "      cursor: pointer;\n",
              "      display: none;\n",
              "      fill: #1967D2;\n",
              "      height: 32px;\n",
              "      padding: 0 0 0 0;\n",
              "      width: 32px;\n",
              "    }\n",
              "\n",
              "    .colab-df-convert:hover {\n",
              "      background-color: #E2EBFA;\n",
              "      box-shadow: 0px 1px 2px rgba(60, 64, 67, 0.3), 0px 1px 3px 1px rgba(60, 64, 67, 0.15);\n",
              "      fill: #174EA6;\n",
              "    }\n",
              "\n",
              "    [theme=dark] .colab-df-convert {\n",
              "      background-color: #3B4455;\n",
              "      fill: #D2E3FC;\n",
              "    }\n",
              "\n",
              "    [theme=dark] .colab-df-convert:hover {\n",
              "      background-color: #434B5C;\n",
              "      box-shadow: 0px 1px 3px 1px rgba(0, 0, 0, 0.15);\n",
              "      filter: drop-shadow(0px 1px 2px rgba(0, 0, 0, 0.3));\n",
              "      fill: #FFFFFF;\n",
              "    }\n",
              "  </style>\n",
              "\n",
              "      <script>\n",
              "        const buttonEl =\n",
              "          document.querySelector('#df-1ee3ae28-aca9-4233-9843-cfe4ed127618 button.colab-df-convert');\n",
              "        buttonEl.style.display =\n",
              "          google.colab.kernel.accessAllowed ? 'block' : 'none';\n",
              "\n",
              "        async function convertToInteractive(key) {\n",
              "          const element = document.querySelector('#df-1ee3ae28-aca9-4233-9843-cfe4ed127618');\n",
              "          const dataTable =\n",
              "            await google.colab.kernel.invokeFunction('convertToInteractive',\n",
              "                                                     [key], {});\n",
              "          if (!dataTable) return;\n",
              "\n",
              "          const docLinkHtml = 'Like what you see? Visit the ' +\n",
              "            '<a target=\"_blank\" href=https://colab.research.google.com/notebooks/data_table.ipynb>data table notebook</a>'\n",
              "            + ' to learn more about interactive tables.';\n",
              "          element.innerHTML = '';\n",
              "          dataTable['output_type'] = 'display_data';\n",
              "          await google.colab.output.renderOutput(dataTable, element);\n",
              "          const docLink = document.createElement('div');\n",
              "          docLink.innerHTML = docLinkHtml;\n",
              "          element.appendChild(docLink);\n",
              "        }\n",
              "      </script>\n",
              "    </div>\n",
              "  </div>\n",
              "  "
            ]
          },
          "metadata": {},
          "execution_count": 1
        }
      ]
    },
    {
      "cell_type": "markdown",
      "source": [
        "##Dictionaries intersections"
      ],
      "metadata": {
        "id": "qtAOpoVo6y66"
      }
    },
    {
      "cell_type": "code",
      "source": [
        "# cancer-fighting foods\n",
        "cf = {\"basil\", \"berries\", \"broccoli\", \"curcume\", \"garlic\", \"kale\", \"oranges\", \"seeds\", \"spinach\", \"sprouts\"} \n",
        "# blood pressure reducing foods \n",
        "bf = {\"bananas\", \"berries\", \"fish\", \"garlic\", \"kale\", \"red beets\", \"salmon\", \"seeds\", \"spinach\", \"yogurt\"} \n",
        "print(cf & bf)"
      ],
      "metadata": {
        "colab": {
          "base_uri": "https://localhost:8080/"
        },
        "id": "6aeOt_wl0QbI",
        "outputId": "c0f25432-ada2-4c38-c5bf-1b6535341ab2"
      },
      "execution_count": null,
      "outputs": [
        {
          "output_type": "stream",
          "name": "stdout",
          "text": [
            "{'seeds', 'garlic', 'spinach', 'kale', 'berries'}\n"
          ]
        }
      ]
    },
    {
      "cell_type": "markdown",
      "source": [
        "##End"
      ],
      "metadata": {
        "id": "6pXuwB90GhbC"
      }
    },
    {
      "cell_type": "code",
      "source": [
        "print(\"Yahia\", end =\"\")\n",
        "print(\"_ML\")"
      ],
      "metadata": {
        "colab": {
          "base_uri": "https://localhost:8080/"
        },
        "outputId": "c5c5d62c-e870-4b12-bf7a-eaacb0bbb425",
        "id": "qVqPmtmHGhbD"
      },
      "execution_count": null,
      "outputs": [
        {
          "output_type": "stream",
          "name": "stdout",
          "text": [
            "Yahia_ML\n"
          ]
        }
      ]
    },
    {
      "cell_type": "markdown",
      "source": [
        "##Find a string index"
      ],
      "metadata": {
        "id": "-uSgRCJFzaNz"
      }
    },
    {
      "cell_type": "code",
      "source": [
        "\"\"\"To check whether a string s1 contains another string s2, you can use the method find(). This method is slightly more powerful than the Python \"in\" keyword because it also returns the index of the searched substring (instead of returning only a Boolean value).\n",
        "\n",
        "If the substring does not exist, the find() method returns the index -1. You have to be careful to handle this return value properly.\n",
        "\n",
        "The puzzle shows how you can specify the start and stop indices to limit the search to a certain (index) range.\"\"\"\n",
        "\n",
        "s1 = \"Ronaldo is better than Messi\" \n",
        "print(s1.find(\"Ronaldo\", 5)) \n",
        "print(s1.find(\"Football\")) \n",
        "print(s1.find(\"Messi\", 5, 100)) # returns 23 becausethe first litter is in the index num 23"
      ],
      "metadata": {
        "id": "hRAnY0Uuzakp"
      },
      "execution_count": null,
      "outputs": []
    },
    {
      "cell_type": "markdown",
      "source": [
        "#**H - N**\n",
        "###H, I, J, K, L, M, N"
      ],
      "metadata": {
        "id": "Ik39MpwOtJLc"
      }
    },
    {
      "cell_type": "markdown",
      "source": [
        "##Join a list"
      ],
      "metadata": {
        "id": "uDDZ9GbUEnHJ"
      }
    },
    {
      "cell_type": "code",
      "source": [
        "string = 'ppy!' \n",
        "fruit = 'a'.join(list(string)) \n",
        "print(fruit)"
      ],
      "metadata": {
        "colab": {
          "base_uri": "https://localhost:8080/"
        },
        "id": "3pUSC1YbEt5C",
        "outputId": "f9e7bb28-c6dd-4972-cb15-57394f344b19"
      },
      "execution_count": null,
      "outputs": [
        {
          "output_type": "stream",
          "name": "stdout",
          "text": [
            "papaya!\n"
          ]
        }
      ]
    },
    {
      "cell_type": "markdown",
      "source": [
        "## If case in Return"
      ],
      "metadata": {
        "id": "-YRKjzvdgci9"
      }
    },
    {
      "cell_type": "code",
      "execution_count": null,
      "metadata": {
        "id": "d_RBhV0subgo"
      },
      "outputs": [],
      "source": [
        "def BracketMatcher(str):\n",
        "\n",
        "  count = 0\n",
        "  for c in str:\n",
        "    if c == '(':\n",
        "      count += 1\n",
        "    elif c == ')':\n",
        "      count -= 1\n",
        "    if count < 0: return 0\n",
        "\n",
        "  return 1 if count == 0 else 0\n",
        "\n",
        "# keep this function call here \n",
        "print(BracketMatcher(input()))"
      ]
    },
    {
      "cell_type": "markdown",
      "source": [
        "##Lambda"
      ],
      "metadata": {
        "id": "-DGqbBppO9wW"
      }
    },
    {
      "cell_type": "code",
      "source": [
        "def myfunc(n):\n",
        "  return lambda a : a * n\n",
        "\n",
        "mydoubler = myfunc(2) # save 2 in a\n",
        "\n",
        "print(mydoubler(11)) # n = 11"
      ],
      "metadata": {
        "colab": {
          "base_uri": "https://localhost:8080/"
        },
        "id": "e4-ay7QmO9J3",
        "outputId": "36b5dfc5-d511-455b-975c-343565344932"
      },
      "execution_count": null,
      "outputs": [
        {
          "output_type": "stream",
          "name": "stdout",
          "text": [
            "22\n"
          ]
        }
      ]
    },
    {
      "cell_type": "markdown",
      "source": [
        "## Nested comprehension"
      ],
      "metadata": {
        "id": "5Z_B1ToehI8E"
      }
    },
    {
      "cell_type": "code",
      "source": [
        "def BracketMatcher(strArr):  # 1 is true 0 false\n",
        "    n=0\n",
        "    for c in strArr:\n",
        "        n=n+(1 if c=='(' else (-1 if c== ')' else 0))\n",
        "        if n<0: return 0\n",
        "    return 1 if n==0 else 0\n",
        "\n",
        "\n",
        "# keep this function call here \n",
        "print(BracketMatcher(input()))"
      ],
      "metadata": {
        "id": "m-KlENoDhH21"
      },
      "execution_count": null,
      "outputs": []
    },
    {
      "cell_type": "markdown",
      "source": [
        "#**O - T**\n",
        "### O, P, Q, R, S, T, U"
      ],
      "metadata": {
        "id": "6hzxoPW-tL3I"
      }
    },
    {
      "cell_type": "markdown",
      "source": [
        "##Print a pragraph"
      ],
      "metadata": {
        "id": "Lv5-6mMQEgIC"
      }
    },
    {
      "cell_type": "code",
      "source": [
        "print('''\\\n",
        "A\n",
        "B\n",
        "C\n",
        "''' )"
      ],
      "metadata": {
        "colab": {
          "base_uri": "https://localhost:8080/"
        },
        "id": "2yunkShIEkMh",
        "outputId": "16fdf6e1-796c-482e-f2c8-6dab19421606"
      },
      "execution_count": null,
      "outputs": [
        {
          "output_type": "stream",
          "name": "stdout",
          "text": [
            "A\n",
            "B\n",
            "C\n",
            "\n"
          ]
        }
      ]
    },
    {
      "cell_type": "markdown",
      "source": [
        "##print list contents without for loop"
      ],
      "metadata": {
        "id": "gX30GthNPsSO"
      }
    },
    {
      "cell_type": "code",
      "source": [
        "l = [1,2,3,4,5,6,7]\n",
        "print(*l)\n",
        "\n",
        "def op(arg1, arg2):\n",
        "  return arg1 + arg2 \n",
        "  \n",
        "args = [] \n",
        "args.append(3) \n",
        "args.append(5) \n",
        "print(op(*args))"
      ],
      "metadata": {
        "colab": {
          "base_uri": "https://localhost:8080/"
        },
        "id": "saFf-UsvPwOF",
        "outputId": "95eae05f-be7c-4ea1-e6f6-0c75a2fb3c35"
      },
      "execution_count": null,
      "outputs": [
        {
          "output_type": "stream",
          "name": "stdout",
          "text": [
            "1 2 3 4 5 6 7\n",
            "8\n"
          ]
        }
      ]
    },
    {
      "cell_type": "markdown",
      "source": [
        "##Progress bar"
      ],
      "metadata": {
        "id": "NCsUUSwpz_-L"
      }
    },
    {
      "cell_type": "code",
      "source": [
        "import sys\n",
        "\n",
        "sys.stdout.write('\\r')\n",
        "# the exact output you're looking for:\n",
        "sys.stdout.write(\"[{:{}}] {:.1f}%\".format(\"=\"*i, n-1, (101/(n-1)*i)))  # n = number of loops (in range(n))\n",
        "sys.stdout.flush()"
      ],
      "metadata": {
        "id": "taIQTe4h0GUd"
      },
      "execution_count": null,
      "outputs": []
    },
    {
      "cell_type": "markdown",
      "source": [
        "##Regix with re"
      ],
      "metadata": {
        "id": "zlTuXszorpoB"
      }
    },
    {
      "cell_type": "code",
      "source": [
        "import re \n",
        "regex = \"e.\" #the number of points represents the number of letters you want to escape\n",
        "string = \"Spiderman\" \n",
        "result = re.split(regex, string) \n",
        "print(result[1])"
      ],
      "metadata": {
        "id": "6uqlE6hjrrjf"
      },
      "execution_count": null,
      "outputs": []
    },
    {
      "cell_type": "code",
      "source": [
        "import re \n",
        "words = ['computer', 'car', 'cat', 'cow', 'crow', 'window', \"way\"] \n",
        "result = [w for w in words if re.match('.*w$', w)] # Check if the word ends with w\n",
        "#result = [w for w in words if re.match('w.*$', w)]  # Check if the word starts with w\n",
        "#result = [w for w in words if re.match('.*w.*$', w)]  # Check if the word cantains w\n",
        "#result = [w for w in words if re.match('..w$', w)] # Check if the word cantains w and exactly 2 charecters before it\n",
        "print(result)\n",
        "print(len(result))"
      ],
      "metadata": {
        "id": "4LM2nrZc1jgP"
      },
      "execution_count": null,
      "outputs": []
    },
    {
      "cell_type": "markdown",
      "source": [
        "##Sort a list with respect to another list"
      ],
      "metadata": {
        "id": "raPS7tvh9JeK"
      }
    },
    {
      "cell_type": "code",
      "source": [
        "import numpy as np\n",
        "## Data: SAT scores for different students \n",
        "sat_scores = np.array([1440, 1256, 1543, 1043, 989, 1412, 1343]) \n",
        "students = np.array([\"John\", \"Bob\", \"Alice\", \"Joe\", \"Jane\", \"Frank\", \"Carl\"]) \n",
        "top_3 = students[np.argsort(sat_scores)][:-4:-1] \n",
        "desc_order = students[np.argsort(sat_scores)][::-1] \n",
        "asc_order = students[np.argsort(sat_scores)]\n",
        "\n",
        "print(top_3[0]) \n",
        "print(top_3[1]) \n",
        "print(top_3[2])\n",
        "print(desc_order)\n",
        "print(asc_order)\n",
        "#Alice\n",
        "#John\n",
        "#Frank\n"
      ],
      "metadata": {
        "colab": {
          "base_uri": "https://localhost:8080/"
        },
        "outputId": "5dc5fa24-af02-4e7b-a3af-c3fd8de15bab",
        "id": "NJkogZnf97gh"
      },
      "execution_count": null,
      "outputs": [
        {
          "output_type": "stream",
          "name": "stdout",
          "text": [
            "Alice\n",
            "John\n",
            "Frank\n",
            "['Alice' 'John' 'Frank' 'Carl' 'Bob' 'Joe' 'Jane']\n",
            "['Jane' 'Joe' 'Bob' 'Carl' 'Frank' 'John' 'Alice']\n"
          ]
        }
      ]
    },
    {
      "cell_type": "markdown",
      "source": [
        "##Tuple in list"
      ],
      "metadata": {
        "id": "DSsa4s4BvsCv"
      }
    },
    {
      "cell_type": "code",
      "source": [
        "bag = [ \n",
        "# (item, price, amount) \n",
        " ('apple', 1.0, 4),\n",
        " ('banana', 1.5, 2), \n",
        " ('cheese', 0.5, 1),\n",
        " ('milk', 1.0, 5) \n",
        " ] \n",
        "\n",
        "total_price = sum([price * amount for item, price, amount in bag]) \n",
        "print(total_price)"
      ],
      "metadata": {
        "id": "zC-f5U8Fvvtp"
      },
      "execution_count": null,
      "outputs": []
    },
    {
      "cell_type": "markdown",
      "source": [
        "#**V - Z**\n",
        "### V, W, X, Y, Z"
      ],
      "metadata": {
        "id": "IlwdDgestMGB"
      }
    }
  ]
}