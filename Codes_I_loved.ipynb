{
  "nbformat": 4,
  "nbformat_minor": 0,
  "metadata": {
    "colab": {
      "name": "Codes I loved.ipynb",
      "provenance": [],
      "authorship_tag": "ABX9TyNiy4q9q/cH1mB7XjMbHpyU",
      "include_colab_link": true
    },
    "kernelspec": {
      "name": "python3",
      "display_name": "Python 3"
    },
    "language_info": {
      "name": "python"
    }
  },
  "cells": [
    {
      "cell_type": "markdown",
      "metadata": {
        "id": "view-in-github",
        "colab_type": "text"
      },
      "source": [
        "<a href=\"https://colab.research.google.com/github/YahiaML/Codes-I-loved/blob/main/Codes_I_loved.ipynb\" target=\"_parent\"><img src=\"https://colab.research.google.com/assets/colab-badge.svg\" alt=\"Open In Colab\"/></a>"
      ]
    },
    {
      "cell_type": "markdown",
      "source": [
        "# If case in Return"
      ],
      "metadata": {
        "id": "-YRKjzvdgci9"
      }
    },
    {
      "cell_type": "code",
      "execution_count": null,
      "metadata": {
        "id": "d_RBhV0subgo"
      },
      "outputs": [],
      "source": [
        "def BracketMatcher(str):\n",
        "\n",
        "  count = 0\n",
        "  for c in str:\n",
        "    if c == '(':\n",
        "      count += 1\n",
        "    elif c == ')':\n",
        "      count -= 1\n",
        "    if count < 0: return 0\n",
        "\n",
        "  return 1 if count == 0 else 0\n",
        "\n",
        "# keep this function call here \n",
        "print(BracketMatcher(input()))"
      ]
    },
    {
      "cell_type": "markdown",
      "source": [
        "# Nested comprehension"
      ],
      "metadata": {
        "id": "5Z_B1ToehI8E"
      }
    },
    {
      "cell_type": "code",
      "source": [
        "def BracketMatcher(strArr):  # 1 is true 0 false\n",
        "    n=0\n",
        "    for c in strArr:\n",
        "        n=n+(1 if c=='(' else (-1 if c== ')' else 0))\n",
        "        if n<0: return 0\n",
        "    return 1 if n==0 else 0\n",
        "\n",
        "\n",
        "# keep this function call here \n",
        "print(BracketMatcher(input()))"
      ],
      "metadata": {
        "id": "m-KlENoDhH21"
      },
      "execution_count": null,
      "outputs": []
    },
    {
      "cell_type": "markdown",
      "source": [
        "#Print a pragraph"
      ],
      "metadata": {
        "id": "Lv5-6mMQEgIC"
      }
    },
    {
      "cell_type": "code",
      "source": [
        "print('''\\\n",
        "A\n",
        "B\n",
        "C\n",
        "''' )"
      ],
      "metadata": {
        "colab": {
          "base_uri": "https://localhost:8080/"
        },
        "id": "2yunkShIEkMh",
        "outputId": "16fdf6e1-796c-482e-f2c8-6dab19421606"
      },
      "execution_count": 1,
      "outputs": [
        {
          "output_type": "stream",
          "name": "stdout",
          "text": [
            "A\n",
            "B\n",
            "C\n",
            "\n"
          ]
        }
      ]
    },
    {
      "cell_type": "markdown",
      "source": [
        "#Join a list"
      ],
      "metadata": {
        "id": "uDDZ9GbUEnHJ"
      }
    },
    {
      "cell_type": "code",
      "source": [
        "string = 'ppy!' \n",
        "fruit = 'a'.join(list(string)) \n",
        "print(fruit)"
      ],
      "metadata": {
        "colab": {
          "base_uri": "https://localhost:8080/"
        },
        "id": "3pUSC1YbEt5C",
        "outputId": "f9e7bb28-c6dd-4972-cb15-57394f344b19"
      },
      "execution_count": 4,
      "outputs": [
        {
          "output_type": "stream",
          "name": "stdout",
          "text": [
            "papaya!\n"
          ]
        }
      ]
    }
  ]
}