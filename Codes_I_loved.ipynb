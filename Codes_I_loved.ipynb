{
  "nbformat": 4,
  "nbformat_minor": 0,
  "metadata": {
    "colab": {
      "name": "Codes I loved.ipynb",
      "provenance": [],
      "authorship_tag": "ABX9TyMcr6ERw414ONkaOgwPw167"
    },
    "kernelspec": {
      "name": "python3",
      "display_name": "Python 3"
    },
    "language_info": {
      "name": "python"
    }
  },
  "cells": [
    {
      "cell_type": "markdown",
      "source": [
        "# If case in Return"
      ],
      "metadata": {
        "id": "-YRKjzvdgci9"
      }
    },
    {
      "cell_type": "code",
      "execution_count": null,
      "metadata": {
        "id": "d_RBhV0subgo"
      },
      "outputs": [],
      "source": [
        "def BracketMatcher(str):\n",
        "\n",
        "  count = 0\n",
        "  for c in str:\n",
        "    if c == '(':\n",
        "      count += 1\n",
        "    elif c == ')':\n",
        "      count -= 1\n",
        "    if count < 0: return 0\n",
        "\n",
        "  return 1 if count == 0 else 0\n",
        "\n",
        "# keep this function call here \n",
        "print(BracketMatcher(input()))"
      ]
    }
  ]
}