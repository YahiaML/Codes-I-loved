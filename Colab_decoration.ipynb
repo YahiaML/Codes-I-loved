{
  "nbformat": 4,
  "nbformat_minor": 0,
  "metadata": {
    "colab": {
      "name": "Colab decoration.ipynb",
      "provenance": [],
      "authorship_tag": "ABX9TyNnFlzPqqEhzBkijV1goOz5",
      "include_colab_link": true
    },
    "kernelspec": {
      "name": "python3",
      "display_name": "Python 3"
    },
    "language_info": {
      "name": "python"
    }
  },
  "cells": [
    {
      "cell_type": "markdown",
      "metadata": {
        "id": "view-in-github",
        "colab_type": "text"
      },
      "source": [
        "<a href=\"https://colab.research.google.com/github/YahiaML/Codes-I-loved/blob/main/Colab_decoration.ipynb\" target=\"_parent\"><img src=\"https://colab.research.google.com/assets/colab-badge.svg\" alt=\"Open In Colab\"/></a>"
      ]
    },
    {
      "cell_type": "markdown",
      "source": [
        "For more decorative options\n",
        "\n",
        "https://www.codegrepper.com/code-examples/whatever/change+color+in+markdown+cell+colab\n",
        "\n",
        "https://colab.research.google.com/notebooks/basic_features_overview.ipynb"
      ],
      "metadata": {
        "id": "6_eCkP0EeqIL"
      }
    },
    {
      "cell_type": "markdown",
      "source": [
        "# **How to make a Table of contents**\n"
      ],
      "metadata": {
        "id": "eNSNOvo2eOUk"
      }
    },
    {
      "cell_type": "markdown",
      "source": [
        "1. [How to make a normal Table](#table)\n",
        "2. [How to make a Nested Table](#nested_table)\n",
        "3. [How to change the color of colab text](#colab_text_color)\n"
      ],
      "metadata": {
        "id": "CeaBU6IEdaBG"
      }
    },
    {
      "cell_type": "markdown",
      "source": [
        "# **How to make a normal Table** <a name=\"table\">\n"
      ],
      "metadata": {
        "id": "2V5-3AZagNg1"
      }
    },
    {
      "cell_type": "markdown",
      "source": [
        "| Header 1| Header2| |\n",
        "|-|-|-|\n",
        "|__Bold Key__| __Bold Value__ |\n",
        "| Normal Key |     Value2     |"
      ],
      "metadata": {
        "id": "8G2D5am7e8zq"
      }
    },
    {
      "cell_type": "markdown",
      "source": [
        "# **How to make a Nested Table** <a name=\"nested_table\">\n"
      ],
      "metadata": {
        "id": "NofcsLpUh0iK"
      }
    },
    {
      "cell_type": "markdown",
      "source": [
        "|                |ASCII                          |HTML                         |\n",
        "|----------------|-------------------------------|-----------------------------|\n",
        "|Single backticks|`'Isn't this fun?'`            |'Isn't this fun?'            |\n",
        "|Quotes          |`\"Isn't this fun?\"`            |<table>  <thead>  <tr>  <th></th>  <th>ASCII</th>  <th>HTML</th>  </tr>  </thead>  <tbody>  <tr>  <td>Single backticks</td>  <td><code>'Isn't this fun?'</code></td>  <td>‘Isn’t this fun?’</td>  </tr>  <tr>  <td>Quotes</td>  <td><code>\"Isn't this fun?\"</code></td>  <td>“Isn’t this fun?”</td>  </tr>  <tr>  <td>Dashes</td>  <td><code>-- is en-dash, --- is em-dash</code></td>  <td>– is en-dash, — is em-dash</td>  </tr>  </tbody>  </table>      |\n",
        "|Dashes          |`-- is en-dash, --- is em-dash`|-- is en-dash, --- is em-dash|"
      ],
      "metadata": {
        "id": "eTXYnXKYhkEe"
      }
    },
    {
      "cell_type": "markdown",
      "source": [
        "#**How to change the color of colab text** <a name=\"colab_text_color\"></a>"
      ],
      "metadata": {
        "id": "uitzCrCobxU5"
      }
    },
    {
      "cell_type": "markdown",
      "source": [
        "$\\color{orange}{\\text{How to change the color of colab text}}$ <a name=\"colab_text_color\"></a>"
      ],
      "metadata": {
        "id": "5xUuewvLhDz_"
      }
    },
    {
      "cell_type": "code",
      "source": [
        "#**$\\color{orange}{\\text{Text Message}}$**"
      ],
      "metadata": {
        "id": "QPaJsjYacynI"
      },
      "execution_count": null,
      "outputs": []
    },
    {
      "cell_type": "markdown",
      "source": [
        "#**Moving banner**"
      ],
      "metadata": {
        "id": "LigsV2PBjWLC"
      }
    },
    {
      "cell_type": "code",
      "execution_count": 5,
      "metadata": {
        "cellView": "both",
        "colab": {
          "height": 39,
          "base_uri": "https://localhost:8080/"
        },
        "id": "odfM-_GxWbCy",
        "outputId": "81908b90-91a8-4c65-e301-b6381a5d2fd1"
      },
      "outputs": [
        {
          "output_type": "display_data",
          "data": {
            "text/plain": [
              "<IPython.core.display.HTML object>"
            ],
            "text/html": [
              "<marquee style='width: 30%; color: blue;'><b>Yahia_ML!</b></marquee>"
            ]
          },
          "metadata": {}
        }
      ],
      "source": [
        "%%html\n",
        "<marquee style='width: 30%; color: blue;'><b>Yahia_ML!</b></marquee>"
      ]
    }
  ]
}