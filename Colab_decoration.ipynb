{
  "nbformat": 4,
  "nbformat_minor": 0,
  "metadata": {
    "colab": {
      "name": "Colab decoration.ipynb",
      "provenance": [],
      "authorship_tag": "ABX9TyM8hkJDdxylrK20mGNEaXet",
      "include_colab_link": true
    },
    "kernelspec": {
      "name": "python3",
      "display_name": "Python 3"
    },
    "language_info": {
      "name": "python"
    }
  },
  "cells": [
    {
      "cell_type": "markdown",
      "metadata": {
        "id": "view-in-github",
        "colab_type": "text"
      },
      "source": [
        "<a href=\"https://colab.research.google.com/github/YahiaML/Codes-I-loved/blob/main/Colab_decoration.ipynb\" target=\"_parent\"><img src=\"https://colab.research.google.com/assets/colab-badge.svg\" alt=\"Open In Colab\"/></a>"
      ]
    },
    {
      "cell_type": "markdown",
      "source": [
        "For more decorative options\n",
        "\n",
        "https://www.codegrepper.com/code-examples/whatever/change+color+in+markdown+cell+colab"
      ],
      "metadata": {
        "id": "6_eCkP0EeqIL"
      }
    },
    {
      "cell_type": "markdown",
      "source": [
        "# **How to make a Table of contents**\n"
      ],
      "metadata": {
        "id": "eNSNOvo2eOUk"
      }
    },
    {
      "cell_type": "markdown",
      "source": [
        "1. [How to change the color of colab text](#colab_text_color)\n",
        "2. [How to make a normal Table](#table)\n"
      ],
      "metadata": {
        "id": "CeaBU6IEdaBG"
      }
    },
    {
      "cell_type": "code",
      "source": [
        "1. [How to change the color of colab text](#colab_text_color)    # add <a name=\"colab_text_color\"></a> to the branch you want"
      ],
      "metadata": {
        "id": "xenPZv4ff_wq"
      },
      "execution_count": null,
      "outputs": []
    },
    {
      "cell_type": "markdown",
      "source": [
        "# **How to make a normal Table** <a name=\"table\">\n"
      ],
      "metadata": {
        "id": "2V5-3AZagNg1"
      }
    },
    {
      "cell_type": "markdown",
      "source": [
        "| Header 1| Header2| |\n",
        "|-|-|-|\n",
        "|__Bold Key__| __Bold Value__ |\n",
        "| Normal Key |     Value2     |"
      ],
      "metadata": {
        "id": "8G2D5am7e8zq"
      }
    },
    {
      "cell_type": "code",
      "source": [
        "| Header 1| Header2| |\n",
        "|-|-|-|\n",
        "|__Bold Key__| __Bold Value__ |\n",
        "| Normal Key |     Value2     |"
      ],
      "metadata": {
        "id": "HZtJAOpygNg2"
      },
      "execution_count": null,
      "outputs": []
    },
    {
      "cell_type": "markdown",
      "source": [
        "#**$\\color{orange}{\\text{How to change the color of colab text}}$** <a name=\"colab_text_color\"></a>"
      ],
      "metadata": {
        "id": "uitzCrCobxU5"
      }
    },
    {
      "cell_type": "code",
      "source": [
        "#**$\\color{orange}{\\text{Text Message}}$**"
      ],
      "metadata": {
        "id": "QPaJsjYacynI"
      },
      "execution_count": null,
      "outputs": []
    }
  ]
}