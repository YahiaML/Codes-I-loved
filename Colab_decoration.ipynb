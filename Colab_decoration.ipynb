{
  "nbformat": 4,
  "nbformat_minor": 0,
  "metadata": {
    "colab": {
      "name": "Colab decoration.ipynb",
      "provenance": [],
      "authorship_tag": "ABX9TyOXzWTj8X0zmf6GwN6AABWE",
      "include_colab_link": true
    },
    "kernelspec": {
      "name": "python3",
      "display_name": "Python 3"
    },
    "language_info": {
      "name": "python"
    }
  },
  "cells": [
    {
      "cell_type": "markdown",
      "metadata": {
        "id": "view-in-github",
        "colab_type": "text"
      },
      "source": [
        "<a href=\"https://colab.research.google.com/github/YahiaML/Codes-I-loved/blob/main/Colab_decoration.ipynb\" target=\"_parent\"><img src=\"https://colab.research.google.com/assets/colab-badge.svg\" alt=\"Open In Colab\"/></a>"
      ]
    },
    {
      "cell_type": "markdown",
      "source": [
        "#**$\\color{orange}{\\text{How to change the color of colab text}}$**"
      ],
      "metadata": {
        "id": "uitzCrCobxU5"
      }
    },
    {
      "cell_type": "code",
      "source": [
        "#**$\\color{orange}{\\text{Text Message}}$**"
      ],
      "metadata": {
        "id": "QPaJsjYacynI"
      },
      "execution_count": null,
      "outputs": []
    }
  ]
}